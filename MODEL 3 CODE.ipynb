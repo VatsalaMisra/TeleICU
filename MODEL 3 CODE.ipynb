{
 "cells": [
  {
   "cell_type": "code",
   "execution_count": 2,
   "id": "07b12bd6-45dc-48b0-a2f0-6b9909a7cdd0",
   "metadata": {},
   "outputs": [],
   "source": [
    "import cv2\n",
    "import numpy as np\n",
    "\n",
    "# Load video\n",
    "video_path = \"FNSEIZURE.mp4\"\n",
    "cap = cv2.VideoCapture(video_path)\n",
    "\n",
    "if not cap.isOpened():\n",
    "    print(\"Error: Could not open video.\")\n",
    "    exit()\n",
    "\n",
    "# video writer to save output\n",
    "fourcc = cv2.VideoWriter_fourcc(*'XVID')\n",
    "out = cv2.VideoWriter('TESToutput_labeled1.avi', fourcc, 20.0, (int(cap.get(3)), int(cap.get(4))))\n",
    "\n",
    "\n",
    "fgbg = cv2.createBackgroundSubtractorMOG2(history=500, varThreshold=16, detectShadows=True)\n",
    "min_contour_area = 1000\n",
    "kernel = np.ones((5, 5), np.uint8)\n",
    "\n",
    "while cap.isOpened():\n",
    "    ret, frame = cap.read()\n",
    "    if not ret:\n",
    "        break\n",
    "\n",
    "    # Motion detection using background subtraction\n",
    "    fgmask = fgbg.apply(frame)\n",
    "    fgmask = cv2.threshold(fgmask, 200, 255, cv2.THRESH_BINARY)[1]  # Thresholding\n",
    "    fgmask = cv2.medianBlur(fgmask, 5)  # Apply median blur to reduce noise\n",
    "    fgmask = cv2.morphologyEx(fgmask, cv2.MORPH_CLOSE, kernel)  # Morphological closing\n",
    "    fgmask = cv2.morphologyEx(fgmask, cv2.MORPH_OPEN, kernel)  # Morphological opening to remove small objects\n",
    "\n",
    "    contours, _ = cv2.findContours(fgmask, cv2.RETR_EXTERNAL, cv2.CHAIN_APPROX_SIMPLE)\n",
    "\n",
    "    for contour in contours:\n",
    "        if cv2.contourArea(contour) > min_contour_area:\n",
    "            x, y, w, h = cv2.boundingRect(contour)\n",
    "            roi = frame[y:y+h, x:x+w]\n",
    "            # Classification logic based on bounding box size\n",
    "            if h > 200 and w > 100:  # condition for 'walking'\n",
    "                label = \"Walking\"\n",
    "            elif h > 50 and w < 50:  # condition for 'standing'\n",
    "                label = \"Standing\"\n",
    "            else:\n",
    "                label = \"Seizure\"\n",
    "\n",
    "            # Draw bounding box and label\n",
    "            color = (0, 255, 0) if label == \"Walking\" else (255, 0, 0) if label == \"Standing\" else (0, 0, 255)\n",
    "            cv2.rectangle(frame, (x, y), (x + w, y + h), color, 2)\n",
    "            cv2.putText(frame, label, (x, y - 10), cv2.FONT_HERSHEY_SIMPLEX, 0.5, color, 2)\n",
    "\n",
    "    \n",
    "    out.write(frame)\n",
    "\n",
    "    \n",
    "    cv2.imshow('Frame', frame)\n",
    "    if cv2.waitKey(1) & 0xFF == ord('q'):\n",
    "        break\n",
    "\n",
    "# Release resources\n",
    "cap.release()\n",
    "out.release()\n",
    "cv2.destroyAllWindows()\n"
   ]
  },
  {
   "cell_type": "code",
   "execution_count": 3,
   "id": "78cbe542-a2f0-44cd-ab70-3d962f5c45a0",
   "metadata": {},
   "outputs": [
    {
     "data": {
      "text/html": [
       "<video src=\"Toutput_video_with_labels.avi\" controls  >\n",
       "      Your browser does not support the <code>video</code> element.\n",
       "    </video>"
      ],
      "text/plain": [
       "<IPython.core.display.Video object>"
      ]
     },
     "metadata": {},
     "output_type": "display_data"
    },
    {
     "name": "stdout",
     "output_type": "stream",
     "text": [
      "Number of persons detected: 38\n"
     ]
    }
   ],
   "source": []
  },
  {
   "cell_type": "code",
   "execution_count": null,
   "id": "8aefc921-b309-4bd1-82b5-df5f0535fef8",
   "metadata": {},
   "outputs": [],
   "source": []
  }
 ],
 "metadata": {
  "kernelspec": {
   "display_name": "Python 3 (ipykernel)",
   "language": "python",
   "name": "python3"
  },
  "language_info": {
   "codemirror_mode": {
    "name": "ipython",
    "version": 3
   },
   "file_extension": ".py",
   "mimetype": "text/x-python",
   "name": "python",
   "nbconvert_exporter": "python",
   "pygments_lexer": "ipython3",
   "version": "3.10.9"
  }
 },
 "nbformat": 4,
 "nbformat_minor": 5
}
